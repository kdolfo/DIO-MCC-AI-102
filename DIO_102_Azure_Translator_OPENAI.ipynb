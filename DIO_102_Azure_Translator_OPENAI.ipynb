{
  "nbformat": 4,
  "nbformat_minor": 0,
  "metadata": {
    "colab": {
      "provenance": [],
      "authorship_tag": "ABX9TyM5WieAhUpo5JqjGPyFOwJ9",
      "include_colab_link": true
    },
    "kernelspec": {
      "name": "python3",
      "display_name": "Python 3"
    },
    "language_info": {
      "name": "python"
    }
  },
  "cells": [
    {
      "cell_type": "markdown",
      "metadata": {
        "id": "view-in-github",
        "colab_type": "text"
      },
      "source": [
        "<a href=\"https://colab.research.google.com/github/kdolfo/DIO-MCC-AI-102/blob/main/DIO_102_Azure_Translator_OPENAI.ipynb\" target=\"_parent\"><img src=\"https://colab.research.google.com/assets/colab-badge.svg\" alt=\"Open In Colab\"/></a>"
      ]
    },
    {
      "cell_type": "code",
      "execution_count": 3,
      "metadata": {
        "colab": {
          "base_uri": "https://localhost:8080/"
        },
        "id": "ZsnFvnDZvdyt",
        "outputId": "96c3baab-7e55-40f6-91ba-46ad4e7ce972"
      },
      "outputs": [
        {
          "output_type": "stream",
          "name": "stdout",
          "text": [
            "Requirement already satisfied: requests in /usr/local/lib/python3.12/dist-packages (2.32.4)\n",
            "Requirement already satisfied: openai in /usr/local/lib/python3.12/dist-packages (1.109.1)\n",
            "Collecting langchain-openai\n",
            "  Downloading langchain_openai-0.3.34-py3-none-any.whl.metadata (2.4 kB)\n",
            "Requirement already satisfied: charset_normalizer<4,>=2 in /usr/local/lib/python3.12/dist-packages (from requests) (3.4.3)\n",
            "Requirement already satisfied: idna<4,>=2.5 in /usr/local/lib/python3.12/dist-packages (from requests) (3.10)\n",
            "Requirement already satisfied: urllib3<3,>=1.21.1 in /usr/local/lib/python3.12/dist-packages (from requests) (2.5.0)\n",
            "Requirement already satisfied: certifi>=2017.4.17 in /usr/local/lib/python3.12/dist-packages (from requests) (2025.8.3)\n",
            "Requirement already satisfied: anyio<5,>=3.5.0 in /usr/local/lib/python3.12/dist-packages (from openai) (4.11.0)\n",
            "Requirement already satisfied: distro<2,>=1.7.0 in /usr/local/lib/python3.12/dist-packages (from openai) (1.9.0)\n",
            "Requirement already satisfied: httpx<1,>=0.23.0 in /usr/local/lib/python3.12/dist-packages (from openai) (0.28.1)\n",
            "Requirement already satisfied: jiter<1,>=0.4.0 in /usr/local/lib/python3.12/dist-packages (from openai) (0.11.0)\n",
            "Requirement already satisfied: pydantic<3,>=1.9.0 in /usr/local/lib/python3.12/dist-packages (from openai) (2.11.9)\n",
            "Requirement already satisfied: sniffio in /usr/local/lib/python3.12/dist-packages (from openai) (1.3.1)\n",
            "Requirement already satisfied: tqdm>4 in /usr/local/lib/python3.12/dist-packages (from openai) (4.67.1)\n",
            "Requirement already satisfied: typing-extensions<5,>=4.11 in /usr/local/lib/python3.12/dist-packages (from openai) (4.15.0)\n",
            "Requirement already satisfied: langchain-core<2.0.0,>=0.3.77 in /usr/local/lib/python3.12/dist-packages (from langchain-openai) (0.3.77)\n",
            "Requirement already satisfied: tiktoken<1.0.0,>=0.7.0 in /usr/local/lib/python3.12/dist-packages (from langchain-openai) (0.11.0)\n",
            "Requirement already satisfied: httpcore==1.* in /usr/local/lib/python3.12/dist-packages (from httpx<1,>=0.23.0->openai) (1.0.9)\n",
            "Requirement already satisfied: h11>=0.16 in /usr/local/lib/python3.12/dist-packages (from httpcore==1.*->httpx<1,>=0.23.0->openai) (0.16.0)\n",
            "Requirement already satisfied: langsmith<1.0.0,>=0.3.45 in /usr/local/lib/python3.12/dist-packages (from langchain-core<2.0.0,>=0.3.77->langchain-openai) (0.4.31)\n",
            "Requirement already satisfied: tenacity!=8.4.0,<10.0.0,>=8.1.0 in /usr/local/lib/python3.12/dist-packages (from langchain-core<2.0.0,>=0.3.77->langchain-openai) (8.5.0)\n",
            "Requirement already satisfied: jsonpatch<2.0.0,>=1.33.0 in /usr/local/lib/python3.12/dist-packages (from langchain-core<2.0.0,>=0.3.77->langchain-openai) (1.33)\n",
            "Requirement already satisfied: PyYAML<7.0.0,>=5.3.0 in /usr/local/lib/python3.12/dist-packages (from langchain-core<2.0.0,>=0.3.77->langchain-openai) (6.0.3)\n",
            "Requirement already satisfied: packaging<26.0.0,>=23.2.0 in /usr/local/lib/python3.12/dist-packages (from langchain-core<2.0.0,>=0.3.77->langchain-openai) (25.0)\n",
            "Requirement already satisfied: annotated-types>=0.6.0 in /usr/local/lib/python3.12/dist-packages (from pydantic<3,>=1.9.0->openai) (0.7.0)\n",
            "Requirement already satisfied: pydantic-core==2.33.2 in /usr/local/lib/python3.12/dist-packages (from pydantic<3,>=1.9.0->openai) (2.33.2)\n",
            "Requirement already satisfied: typing-inspection>=0.4.0 in /usr/local/lib/python3.12/dist-packages (from pydantic<3,>=1.9.0->openai) (0.4.2)\n",
            "Requirement already satisfied: regex>=2022.1.18 in /usr/local/lib/python3.12/dist-packages (from tiktoken<1.0.0,>=0.7.0->langchain-openai) (2024.11.6)\n",
            "Requirement already satisfied: jsonpointer>=1.9 in /usr/local/lib/python3.12/dist-packages (from jsonpatch<2.0.0,>=1.33.0->langchain-core<2.0.0,>=0.3.77->langchain-openai) (3.0.0)\n",
            "Requirement already satisfied: orjson>=3.9.14 in /usr/local/lib/python3.12/dist-packages (from langsmith<1.0.0,>=0.3.45->langchain-core<2.0.0,>=0.3.77->langchain-openai) (3.11.3)\n",
            "Requirement already satisfied: requests-toolbelt>=1.0.0 in /usr/local/lib/python3.12/dist-packages (from langsmith<1.0.0,>=0.3.45->langchain-core<2.0.0,>=0.3.77->langchain-openai) (1.0.0)\n",
            "Requirement already satisfied: zstandard>=0.23.0 in /usr/local/lib/python3.12/dist-packages (from langsmith<1.0.0,>=0.3.45->langchain-core<2.0.0,>=0.3.77->langchain-openai) (0.25.0)\n",
            "Downloading langchain_openai-0.3.34-py3-none-any.whl (75 kB)\n",
            "\u001b[2K   \u001b[90m━━━━━━━━━━━━━━━━━━━━━━━━━━━━━━━━━━━━━━━━\u001b[0m \u001b[32m75.6/75.6 kB\u001b[0m \u001b[31m3.2 MB/s\u001b[0m eta \u001b[36m0:00:00\u001b[0m\n",
            "\u001b[?25hInstalling collected packages: langchain-openai\n",
            "Successfully installed langchain-openai-0.3.34\n"
          ]
        }
      ],
      "source": [
        "!pip install requests openai langchain-openai"
      ]
    },
    {
      "cell_type": "code",
      "source": [
        "import requests\n",
        "from bs4 import BeautifulSoup\n",
        "\n",
        "def extract_text_from_url(url):\n",
        "    response = requests.get(url)\n",
        "\n",
        "    if response.status_code == 200:\n",
        "        soup = BeautifulSoup(response.text, 'html.parser')\n",
        "        for script_or_style in soup(['script', 'style']):\n",
        "            script_or_style.decompose()\n",
        "        texto = soup.get_text(separator = ' ')\n",
        "        linhas = (line.strip() for line in texto.splitlines())\n",
        "        parts = (phrase.strip() for line in linhas for phrase in line.split(\"  \"))\n",
        "        texto_limpo = '\\n'.join(line for line in linhas if line)\n",
        "        return texto_limpo\n",
        "\n",
        "    else:\n",
        "        raise Exception(f\"Failed to fetch URL {url}. Status code: {response.status_code}\")\n",
        "\n",
        "    soup = BeautifulSoup(response.text, 'html.parser')\n",
        "    text = soup.get_text()\n",
        "    return text\n",
        "\n",
        "extract_text_from_url('https://dev.to/kenakamu/azure-open-ai-in-vnet-3alo')"
      ],
      "metadata": {
        "colab": {
          "base_uri": "https://localhost:8080/",
          "height": 123
        },
        "id": "OVfLhLEowMDz",
        "outputId": "6dc43e6c-549b-4671-d60a-def7fb4dbdbc"
      },
      "execution_count": 4,
      "outputs": [
        {
          "output_type": "execute_result",
          "data": {
            "text/plain": [
              "\"Azure Open AI in VNet - DEV Community\\nForem Feed\\nFollow new Subforems to improve your feed\\nDEV Community\\nFollow\\nA space to discuss and keep up software development and manage your software career\\nGamers Forem\\nFollow\\nAn inclusive community for gaming enthusiasts\\nFuture\\nFollow\\nNews and discussion of science and technology such as AI, VR, cryptocurrency, quantum computing, and more.\\nMusic Forem\\nFollow\\nFrom composing and gigging to gear, hot music takes, and everything in between.\\nVibe Coding Forem\\nFollow\\nDiscussing AI software development, and showing off what we're building.\\nPopcorn Movies and TV\\nFollow\\nMovie and TV enthusiasm, criticism and everything in-between.\\nDUMB DEV Community\\nFollow\\nMemes and software development shitposting\\nOpen Forem\\nFollow\\nA general discussion space for the Forem community. If it doesn't have a home elsewhere, it belongs here\\nDesign Community\\nFollow\\nWeb design, graphic design and everything in-between\\nMaker Forem\\nFollow\\nA community for makers, hobbyists, and professionals to discuss Arduino, Raspberry Pi, 3D printing, and much more.\\nGolf Forem\\nFollow\\nA community of golfers and golfing enthusiasts\\nScale Forem\\nFollow\\nFor engineers building software at scale. We discuss architecture, cloud-native, and SRE—the hard-won lessons you can't just Google\\nForem Core\\nFollow\\nDiscussing the core forem open source software project — features, bugs, performance, self-hosting.\\nSecurity Forem\\nFollow\\nYour central hub for all things security. From ethical hacking and CTFs to GRC and career development, for beginners and pros alike\\nCrypto Forem\\nFollow\\nA collaborative community for all things Crypto—from Bitcoin to protocol development and DeFi to NFTs and market analysis.\\nDropdown menu\\nDropdown menu\\nSkip to content\\nNavigation menu\\nSearch\\nPowered by Algolia\\nSearch\\nLog in\\nCreate account\\nDEV Community\\nClose\\nAdd reaction\\nLike\\nUnicorn\\nExploding Head\\nRaised Hands\\nFire\\nJump to Comments\\nSave\\nBoost\\nMore...\\nModerate\\nCopy link\\nCopy link\\nCopied to Clipboard\\nShare to X\\nShare to LinkedIn\\nShare to Facebook\\nShare to Mastodon\\nReport Abuse\\nKenichiro Nakamura\\nPosted on  Oct 12, 2023\\nAzure Open AI in VNet\\n# azure\\n# openai\\n# security\\nGPT models are hosted in multiple service vendor at the moment, and Microsoft Azure is one of them.\\nEven though the models themselves are the same, there are many differences including:\\ncost\\nfunctionalities\\ntype of models and versions\\ngeo location\\nsecurity\\nsupport\\netc.\\nOne of the most important aspects when we use it in an Enterprise Environment is, of course, security.\\nBy using Azure network security features with Azure Open AI, customers can consume the Open AI service from and within the VNet, therefore no information is flowing in public.\\nSample Deployment\\nAzure Sample repo provides a sample bicep files to deploy Azure Open AI into VNet environment.\\nGitHub: openai-enterprise-iac\\nThe key features the bicep uses are:\\nVNet\\nVNet integration for Web App\\nPrivate Endpoint for Azure Open AI\\nPrivate Endpoint for Cognitive Search\\nPrivate DNS Zone\\nBy using these features, all the outbound traffic from the Web App only routed inside the VNet and all the names are resolved into private IP addresses. Open AI and Cognitive Search shut down the public IP address, thus there is not public interface endpoint available anymore.\\nDeploy\\nThe bicep file will deploy following Azure Resources.\\nLet's deploy and confirm how it works. I create a resource group in East US region for my own test.\\ngit clone https://github.com/Azure-Samples/openai-enterprise-iac\\ncd  openai-enterprise-iac\\naz group create  -n  openaitest  -l  eastus\\naz deployment group create  -g  openaitest  -f  . \\\\i nfra \\\\m ain.bicep\\nEnter fullscreen mode\\nExit fullscreen mode\\nOnce I run the commend above, I see the deployment started.\\nWait until the deployment completes.\\nTest\\nLet's see if the deployment was succeeded.\\nAzure Open AI\\nLet's try public access first.\\nI could create a deployment without any issue. But when I try from the Chat playground in my Azure Portal, I see the following error.\\nHow about access via the Web API?\\nFrom an advanced tool of the App Service, I login to Bash session, and first I ping the service URL.\\nI see the private IP address assigned to the Private Endpoint is returend.\\nThen I use curl command to send request to the endpoint.\\nTop comments  (0)\\nSubscribe\\nPersonal\\nTrusted User\\nCreate template\\nTemplates let you quickly answer FAQs or store snippets for re-use.\\nSubmit\\nPreview\\nDismiss\\nCode of Conduct\\n•\\nReport abuse\\nAre you sure you want to hide this comment? It will become hidden in your post, but will still be visible via the comment's  permalink .\\nHide child comments as well\\nConfirm\\nFor further actions, you may consider blocking this person and/or  reporting abuse\\nKenichiro Nakamura\\nFollow\\nJoined\\nFeb 3, 2018\\nMore from  Kenichiro Nakamura\\nAzure ML Prompt flow: Use content safety before sending a request to LLM\\n# azure\\n# promptflow\\n# contentsafety\\nDon't waste time to write README, use readme-ai instead\\n# ai\\n# readme\\n# openai\\nC#: Azure Open AI and Function Calling\\n# azure\\n# openai\\n# functioncalling\\n💎 DEV Diamond Sponsors\\nThank you to our Diamond Sponsors for supporting the DEV Community\\nGoogle AI is the official AI Model and Platform Partner of DEV\\nNeon is the official database partner of DEV\\nAlgolia is the official search partner of DEV\\nDEV Community  — A space to discuss and keep up software development and manage your software career\\nHome\\nDEV++\\nWelcome Thread\\nReading List\\nPodcasts\\nVideos\\nTags\\nDEV Education Tracks\\nDEV Challenges\\nDEV Help\\nAdvertise on DEV\\nDEV Showcase\\nAbout\\nContact\\nFree Postgres Database\\nSoftware comparisons\\nForem Shop\\nCode of Conduct\\nPrivacy Policy\\nTerms of Use\\nBuilt on  Forem  — the  open source  software that powers  DEV  and other inclusive communities.\\nMade with love and  Ruby on Rails . DEV Community  ©  2016 - 2025.\\nWe're a place where coders share, stay up-to-date and grow their careers.\\nLog in\\nCreate account\""
            ],
            "application/vnd.google.colaboratory.intrinsic+json": {
              "type": "string"
            }
          },
          "metadata": {},
          "execution_count": 4
        }
      ]
    },
    {
      "cell_type": "code",
      "source": [
        "from langchain_openai.chat_models.azure import AzureChatOpenAI\n",
        "from google.colab import userdata\n",
        "\n",
        "client = AzureChatOpenAI(\n",
        "    azure_endpoint = \"https://oai-dio-bootcamp-dev-eastus-kdf.openai.azure.com/\",\n",
        "    api_key= userdata.get('AZURE_OPENAI'),\n",
        "    api_version = \"2024-02-15-preview\",\n",
        "    deployment_name = \"gpt-4o-mini\",\n",
        "    max_retries=0\n",
        ")\n",
        "\n",
        "def translate_article(text, lang):\n",
        "  messages = [\n",
        "      (\"system\" , \"Você atua como um tradutor de textos\"),\n",
        "      (\"user\" , f\"Traduza o {text} para o idioma {lang} e responda em markdown\")\n",
        "  ]\n",
        "\n",
        "  response = client.invoke(messages)\n",
        "  print(response.content)\n",
        "  return response.content\n",
        "\n",
        "translate_article(extract_text_from_url('https://dev.to/kenakamu/azure-open-ai-in-vnet-3alo'), 'portugues')"
      ],
      "metadata": {
        "colab": {
          "base_uri": "https://localhost:8080/",
          "height": 1000
        },
        "id": "_6UOfHPIy3TY",
        "outputId": "213eadac-afe2-4a9a-8343-e21d240b73d6"
      },
      "execution_count": 7,
      "outputs": [
        {
          "output_type": "stream",
          "name": "stdout",
          "text": [
            "# Azure Open AI na VNet - DEV Community\n",
            "\n",
            "## Comunidades no DEV\n",
            "\n",
            "**DEV Community**  \n",
            "Um espaço para discutir e acompanhar o desenvolvimento de software e gerenciar sua carreira de software.\n",
            "\n",
            "**Comunidade Gamers**  \n",
            "Uma comunidade inclusiva para entusiastas de jogos.\n",
            "\n",
            "**Futuro**  \n",
            "Notícias e discussões sobre ciência e tecnologia, como IA, VR, criptomoedas, computação quântica e muito mais.\n",
            "\n",
            "**Comunidade de Música**  \n",
            "Desde composição e apresentações ao vivo até equipamentos, opiniões quentes sobre música e tudo o que está entre eles.\n",
            "\n",
            "**Vibe Coding**  \n",
            "Discutindo desenvolvimento de software de IA e exibindo o que estamos construindo.\n",
            "\n",
            "**Filmes e TV Popcorn**  \n",
            "Entusiasmo, críticas sobre filmes e TV e tudo mais.\n",
            "\n",
            "**DUMB DEV Community**  \n",
            "Memes e postagens de humor sobre desenvolvimento de software.\n",
            "\n",
            "**Open Forem**  \n",
            "Um espaço de discussão geral para a comunidade Forem. Se não tem um lar em outro lugar, pertence aqui.\n",
            "\n",
            "**Comunidade de Design**  \n",
            "Design de web, design gráfico e tudo o que está entre eles.\n",
            "\n",
            "**Maker Forem**  \n",
            "Uma comunidade para criadores, hobbyistas e profissionais discutirem Arduino, Raspberry Pi, impressão 3D e muito mais.\n",
            "\n",
            "**Golf Forem**  \n",
            "Uma comunidade de golfistas e entusiastas do golfe.\n",
            "\n",
            "**Scale Forem**  \n",
            "Para engenheiros que estão construindo software em escala. Discutimos arquitetura, cloud-native e SRE— as lições difíceis que você não pode simplesmente procurar no Google.\n",
            "\n",
            "**Forem Core**  \n",
            "Discutindo o projeto central de software de código aberto Forem — recursos, bugs, performance, auto-hospedagem.\n",
            "\n",
            "**Security Forem**  \n",
            "Seu centro central para tudo que envolve segurança. Desde hacking ético e CTFs até GRC e desenvolvimento de carreira, para iniciantes e profissionais.\n",
            "\n",
            "**Crypto Forem**  \n",
            "Uma comunidade colaborativa para tudo sobre criptomoedas — de Bitcoin ao desenvolvimento de protocolos, DeFi, NFTs e análise de mercado.\n",
            "\n",
            "---\n",
            "\n",
            "## Azure Open AI na VNet\n",
            "\n",
            "### Kenichiro Nakamura\n",
            "Publica em 12 de Outubro de 2023\n",
            "\n",
            "Os modelos GPT estão hospedados em várias plataformas de serviço no momento, e o Microsoft Azure é uma delas. Embora os modelos em si sejam os mesmos, existem muitas diferenças, incluindo:\n",
            "\n",
            "- Custo\n",
            "- Funcionalidades\n",
            "- Tipos de modelos e versões\n",
            "- Localização geográfica\n",
            "- Segurança\n",
            "- Suporte\n",
            "- Etc.\n",
            "\n",
            "Um dos aspectos mais importantes ao usá-lo em um ambiente corporativo é, claro, a segurança. Ao usar os recursos de segurança de rede do Azure com Azure Open AI, os clientes podem consumir o serviço Open AI a partir e dentro da VNet, portanto, nenhuma informação está fluindo publicamente.\n",
            "\n",
            "### Implantação de Exemplo\n",
            "\n",
            "O repositório de amostras do Azure fornece um exemplo de arquivos Bicep para implantar o Azure Open AI em um ambiente VNet.\n",
            "\n",
            "**GitHub:** [openai-enterprise-iac](https://github.com/Azure-Samples/openai-enterprise-iac)\n",
            "\n",
            "As principais funcionalidades que o Bicep usa são:\n",
            "\n",
            "- VNet\n",
            "- Integração de VNet para Aplicativos Web\n",
            "- Endpoint Privado para Azure Open AI\n",
            "- Endpoint Privado para Pesquisa Cognitiva\n",
            "- Zona de DNS Privada\n",
            "\n",
            "Usando esses recursos, todo o tráfego de saída do Aplicativo Web é roteado apenas dentro da VNet e todos os nomes são resolvidos em endereços IP privados. O Open AI e a Pesquisa Cognitiva desativam o endereço IP público, portanto, não há mais um endpoint de interface pública disponível.\n",
            "\n",
            "### Implantar\n",
            "\n",
            "O arquivo Bicep implantará os seguintes Recursos do Azure. Vamos implantar e confirmar como funciona. Criei um grupo de recursos na região East US para meu próprio teste.\n",
            "\n",
            "```bash\n",
            "git clone https://github.com/Azure-Samples/openai-enterprise-iac\n",
            "cd openai-enterprise-iac\n",
            "az group create -n openaitest -l eastus\n",
            "az deployment group create -g openaitest -f .\\infra\\main.bicep\n",
            "```\n",
            "\n",
            "Assim que eu rodar o comando acima, vejo que a implantação começou. Aguarde até que a implantação seja concluída.\n",
            "\n",
            "### Teste\n",
            "\n",
            "Vamos ver se a implantação foi bem-sucedida.\n",
            "\n",
            "**Azure Open AI**  \n",
            "Vamos tentar acesso público primeiro. Eu poderia criar uma implantação sem nenhum problema. Mas quando tento do Chat playground no meu Portal do Azure, vejo o seguinte erro. \n",
            "\n",
            "E quanto ao acesso via Web API?  \n",
            "A partir de uma ferramenta avançada do App Service, eu faço login na sessão Bash, e primeiro faço ping no URL do serviço. Vejo que o endereço IP privado atribuído ao Endpoint Privado está retornando. Em seguida, uso o comando curl para enviar uma solicitação ao endpoint.\n",
            "\n",
            "---\n",
            "\n",
            "## Mais sobre Kenichiro Nakamura\n",
            "\n",
            "- **Azure ML Prompt flow**: Use segurança de conteúdo antes de enviar uma solicitação para LLM\n",
            "- **Não perca tempo escrevendo README**, use readme-ai em vez disso\n",
            "- **C#**: Azure Open AI e Chamada de Funções\n",
            "\n",
            "**Apoio da Comunidade DEV**  \n",
            "Agradecemos aos nossos patrocinadores Diamond por apoiar a Comunidade DEV.\n",
            "\n",
            "- **Google AI** é o parceiro oficial de Modelos e Plataformas de IA da DEV.\n",
            "- **Neon** é o parceiro oficial de banco de dados da DEV.\n",
            "- **Algolia** é o parceiro oficial de busca da DEV.\n",
            "\n",
            "---\n",
            "\n",
            "**DEV Community** — Um espaço para discutir e acompanhar o desenvolvimento de software e gerenciar sua carreira de software.\n",
            "\n",
            "**Log in** | **Criar conta**  \n",
            "\n",
            "Made with love e Ruby on Rails. DEV Community © 2016 - 2025.  \n",
            "**Estamos em um lugar onde codificadores compartilham, se atualizam e desenvolvem suas carreiras.**\n"
          ]
        },
        {
          "output_type": "execute_result",
          "data": {
            "text/plain": [
              "'# Azure Open AI na VNet - DEV Community\\n\\n## Comunidades no DEV\\n\\n**DEV Community**  \\nUm espaço para discutir e acompanhar o desenvolvimento de software e gerenciar sua carreira de software.\\n\\n**Comunidade Gamers**  \\nUma comunidade inclusiva para entusiastas de jogos.\\n\\n**Futuro**  \\nNotícias e discussões sobre ciência e tecnologia, como IA, VR, criptomoedas, computação quântica e muito mais.\\n\\n**Comunidade de Música**  \\nDesde composição e apresentações ao vivo até equipamentos, opiniões quentes sobre música e tudo o que está entre eles.\\n\\n**Vibe Coding**  \\nDiscutindo desenvolvimento de software de IA e exibindo o que estamos construindo.\\n\\n**Filmes e TV Popcorn**  \\nEntusiasmo, críticas sobre filmes e TV e tudo mais.\\n\\n**DUMB DEV Community**  \\nMemes e postagens de humor sobre desenvolvimento de software.\\n\\n**Open Forem**  \\nUm espaço de discussão geral para a comunidade Forem. Se não tem um lar em outro lugar, pertence aqui.\\n\\n**Comunidade de Design**  \\nDesign de web, design gráfico e tudo o que está entre eles.\\n\\n**Maker Forem**  \\nUma comunidade para criadores, hobbyistas e profissionais discutirem Arduino, Raspberry Pi, impressão 3D e muito mais.\\n\\n**Golf Forem**  \\nUma comunidade de golfistas e entusiastas do golfe.\\n\\n**Scale Forem**  \\nPara engenheiros que estão construindo software em escala. Discutimos arquitetura, cloud-native e SRE— as lições difíceis que você não pode simplesmente procurar no Google.\\n\\n**Forem Core**  \\nDiscutindo o projeto central de software de código aberto Forem — recursos, bugs, performance, auto-hospedagem.\\n\\n**Security Forem**  \\nSeu centro central para tudo que envolve segurança. Desde hacking ético e CTFs até GRC e desenvolvimento de carreira, para iniciantes e profissionais.\\n\\n**Crypto Forem**  \\nUma comunidade colaborativa para tudo sobre criptomoedas — de Bitcoin ao desenvolvimento de protocolos, DeFi, NFTs e análise de mercado.\\n\\n---\\n\\n## Azure Open AI na VNet\\n\\n### Kenichiro Nakamura\\nPublica em 12 de Outubro de 2023\\n\\nOs modelos GPT estão hospedados em várias plataformas de serviço no momento, e o Microsoft Azure é uma delas. Embora os modelos em si sejam os mesmos, existem muitas diferenças, incluindo:\\n\\n- Custo\\n- Funcionalidades\\n- Tipos de modelos e versões\\n- Localização geográfica\\n- Segurança\\n- Suporte\\n- Etc.\\n\\nUm dos aspectos mais importantes ao usá-lo em um ambiente corporativo é, claro, a segurança. Ao usar os recursos de segurança de rede do Azure com Azure Open AI, os clientes podem consumir o serviço Open AI a partir e dentro da VNet, portanto, nenhuma informação está fluindo publicamente.\\n\\n### Implantação de Exemplo\\n\\nO repositório de amostras do Azure fornece um exemplo de arquivos Bicep para implantar o Azure Open AI em um ambiente VNet.\\n\\n**GitHub:** [openai-enterprise-iac](https://github.com/Azure-Samples/openai-enterprise-iac)\\n\\nAs principais funcionalidades que o Bicep usa são:\\n\\n- VNet\\n- Integração de VNet para Aplicativos Web\\n- Endpoint Privado para Azure Open AI\\n- Endpoint Privado para Pesquisa Cognitiva\\n- Zona de DNS Privada\\n\\nUsando esses recursos, todo o tráfego de saída do Aplicativo Web é roteado apenas dentro da VNet e todos os nomes são resolvidos em endereços IP privados. O Open AI e a Pesquisa Cognitiva desativam o endereço IP público, portanto, não há mais um endpoint de interface pública disponível.\\n\\n### Implantar\\n\\nO arquivo Bicep implantará os seguintes Recursos do Azure. Vamos implantar e confirmar como funciona. Criei um grupo de recursos na região East US para meu próprio teste.\\n\\n```bash\\ngit clone https://github.com/Azure-Samples/openai-enterprise-iac\\ncd openai-enterprise-iac\\naz group create -n openaitest -l eastus\\naz deployment group create -g openaitest -f .\\\\infra\\\\main.bicep\\n```\\n\\nAssim que eu rodar o comando acima, vejo que a implantação começou. Aguarde até que a implantação seja concluída.\\n\\n### Teste\\n\\nVamos ver se a implantação foi bem-sucedida.\\n\\n**Azure Open AI**  \\nVamos tentar acesso público primeiro. Eu poderia criar uma implantação sem nenhum problema. Mas quando tento do Chat playground no meu Portal do Azure, vejo o seguinte erro. \\n\\nE quanto ao acesso via Web API?  \\nA partir de uma ferramenta avançada do App Service, eu faço login na sessão Bash, e primeiro faço ping no URL do serviço. Vejo que o endereço IP privado atribuído ao Endpoint Privado está retornando. Em seguida, uso o comando curl para enviar uma solicitação ao endpoint.\\n\\n---\\n\\n## Mais sobre Kenichiro Nakamura\\n\\n- **Azure ML Prompt flow**: Use segurança de conteúdo antes de enviar uma solicitação para LLM\\n- **Não perca tempo escrevendo README**, use readme-ai em vez disso\\n- **C#**: Azure Open AI e Chamada de Funções\\n\\n**Apoio da Comunidade DEV**  \\nAgradecemos aos nossos patrocinadores Diamond por apoiar a Comunidade DEV.\\n\\n- **Google AI** é o parceiro oficial de Modelos e Plataformas de IA da DEV.\\n- **Neon** é o parceiro oficial de banco de dados da DEV.\\n- **Algolia** é o parceiro oficial de busca da DEV.\\n\\n---\\n\\n**DEV Community** — Um espaço para discutir e acompanhar o desenvolvimento de software e gerenciar sua carreira de software.\\n\\n**Log in** | **Criar conta**  \\n\\nMade with love e Ruby on Rails. DEV Community © 2016 - 2025.  \\n**Estamos em um lugar onde codificadores compartilham, se atualizam e desenvolvem suas carreiras.**'"
            ],
            "application/vnd.google.colaboratory.intrinsic+json": {
              "type": "string"
            }
          },
          "metadata": {},
          "execution_count": 7
        }
      ]
    }
  ]
}